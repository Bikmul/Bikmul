{
  "nbformat": 4,
  "nbformat_minor": 0,
  "metadata": {
    "colab": {
      "provenance": [],
      "include_colab_link": true
    },
    "kernelspec": {
      "name": "python3",
      "display_name": "Python 3"
    },
    "accelerator": "GPU"
  },
  "cells": [
    {
      "cell_type": "markdown",
      "metadata": {
        "id": "view-in-github",
        "colab_type": "text"
      },
      "source": [
        "<a href=\"https://colab.research.google.com/github/Bikmul/Bikmul/blob/main/fashion_mnist_keras_tuner.ipynb\" target=\"_parent\"><img src=\"https://colab.research.google.com/assets/colab-badge.svg\" alt=\"Open In Colab\"/></a>"
      ]
    },
    {
      "cell_type": "markdown",
      "metadata": {
        "id": "Ah7dy1kFL2H9"
      },
      "source": [
        "# Оптимизация гиперпараметров нейросети с помощью [Keras Tuner](https://github.com/keras-team/keras-tuner)\n",
        "\n",
        "Учебный курс \"[Программирование нейросетей на Python](https://www.asozykin.ru/courses/nnpython)\".\n",
        "\n",
        "Чтобы запускать и редактировать код, сохраните копию этого ноутбука себе (File->Save a copy in Drive...). Свою копию вы сможете изменять и запускать.\n",
        "\n",
        "Не забудьте подключить GPU, чтобы сеть обучалась быстрее (Runtime -> Change Runtime Type -> Hardware Accelerator -> GPU).\n",
        "\n"
      ]
    },
    {
      "cell_type": "markdown",
      "metadata": {
        "id": "Om0LL5DEZfEo"
      },
      "source": [
        "## Гиперпараметры обучения нейронной сети\n",
        "\n",
        "- Количество слоев нейронной сети\n",
        "- Количество нейронов в каждом слое\n",
        "- Функции активации, которые используются в слоях\n",
        "- Тип оптимизатора при обучении нейронной сети\n",
        "- Количество эпох обучения"
      ]
    },
    {
      "cell_type": "markdown",
      "metadata": {
        "id": "eVmxmhjuia9a"
      },
      "source": [
        "## Установка Keras Tuner"
      ]
    },
    {
      "cell_type": "code",
      "metadata": {
        "id": "ftLg2Tt0Rejk",
        "colab": {
          "base_uri": "https://localhost:8080/"
        },
        "outputId": "d7ff6ef5-9b46-4d49-bbb2-73f6ada319e9"
      },
      "source": [
        "pip install -U keras-tuner"
      ],
      "execution_count": 2,
      "outputs": [
        {
          "output_type": "stream",
          "name": "stdout",
          "text": [
            "Collecting keras-tuner\n",
            "  Downloading keras_tuner-1.3.5-py3-none-any.whl (176 kB)\n",
            "\u001b[?25l     \u001b[90m━━━━━━━━━━━━━━━━━━━━━━━━━━━━━━━━━━━━━━━━\u001b[0m \u001b[32m0.0/176.1 kB\u001b[0m \u001b[31m?\u001b[0m eta \u001b[36m-:--:--\u001b[0m\r\u001b[2K     \u001b[91m━━━━━━━━━━━━━\u001b[0m\u001b[91m╸\u001b[0m\u001b[90m━━━━━━━━━━━━━━━━━━━━━━━━━━\u001b[0m \u001b[32m61.4/176.1 kB\u001b[0m \u001b[31m1.9 MB/s\u001b[0m eta \u001b[36m0:00:01\u001b[0m\r\u001b[2K     \u001b[90m━━━━━━━━━━━━━━━━━━━━━━━━━━━━━━━━━━━━━━━\u001b[0m \u001b[32m176.1/176.1 kB\u001b[0m \u001b[31m3.3 MB/s\u001b[0m eta \u001b[36m0:00:00\u001b[0m\n",
            "\u001b[?25hRequirement already satisfied: packaging in /usr/local/lib/python3.10/dist-packages (from keras-tuner) (23.1)\n",
            "Requirement already satisfied: requests in /usr/local/lib/python3.10/dist-packages (from keras-tuner) (2.31.0)\n",
            "Collecting kt-legacy (from keras-tuner)\n",
            "  Downloading kt_legacy-1.0.5-py3-none-any.whl (9.6 kB)\n",
            "Requirement already satisfied: charset-normalizer<4,>=2 in /usr/local/lib/python3.10/dist-packages (from requests->keras-tuner) (3.2.0)\n",
            "Requirement already satisfied: idna<4,>=2.5 in /usr/local/lib/python3.10/dist-packages (from requests->keras-tuner) (3.4)\n",
            "Requirement already satisfied: urllib3<3,>=1.21.1 in /usr/local/lib/python3.10/dist-packages (from requests->keras-tuner) (2.0.4)\n",
            "Requirement already satisfied: certifi>=2017.4.17 in /usr/local/lib/python3.10/dist-packages (from requests->keras-tuner) (2023.7.22)\n",
            "Installing collected packages: kt-legacy, keras-tuner\n",
            "Successfully installed keras-tuner-1.3.5 kt-legacy-1.0.5\n"
          ]
        }
      ]
    },
    {
      "cell_type": "markdown",
      "metadata": {
        "id": "TRs9p254BLSu"
      },
      "source": [
        "## Подключаем нужные пакеты"
      ]
    },
    {
      "cell_type": "code",
      "metadata": {
        "id": "qrfd6FzSLrE2",
        "colab": {
          "base_uri": "https://localhost:8080/"
        },
        "outputId": "5e43d21a-7669-44f9-806c-2334e177b60a"
      },
      "source": [
        "%tensorflow_version 2.x\n",
        "from tensorflow.keras.datasets import fashion_mnist\n",
        "from tensorflow.keras.models import Sequential\n",
        "from tensorflow.keras.layers import Dense\n",
        "from tensorflow.keras import utils\n",
        "from google.colab import files\n",
        "from kerastuner.tuners import RandomSearch, Hyperband, BayesianOptimization\n",
        "import numpy as np"
      ],
      "execution_count": 3,
      "outputs": [
        {
          "output_type": "stream",
          "name": "stdout",
          "text": [
            "Colab only includes TensorFlow 2.x; %tensorflow_version has no effect.\n"
          ]
        },
        {
          "output_type": "stream",
          "name": "stderr",
          "text": [
            "<ipython-input-3-b7a017acafd2>:7: DeprecationWarning: `import kerastuner` is deprecated, please use `import keras_tuner`.\n",
            "  from kerastuner.tuners import RandomSearch, Hyperband, BayesianOptimization\n"
          ]
        }
      ]
    },
    {
      "cell_type": "markdown",
      "metadata": {
        "id": "xiurjCBVMDTG"
      },
      "source": [
        "## Подготовка данных для обучения сети"
      ]
    },
    {
      "cell_type": "code",
      "metadata": {
        "id": "E5L3LUIi8PDV",
        "colab": {
          "base_uri": "https://localhost:8080/"
        },
        "outputId": "40256e18-de7b-4d2f-d4c4-4e3e8c48cbf6"
      },
      "source": [
        "(x_train, y_train), (x_test, y_test) = fashion_mnist.load_data()"
      ],
      "execution_count": 4,
      "outputs": [
        {
          "output_type": "stream",
          "name": "stdout",
          "text": [
            "Downloading data from https://storage.googleapis.com/tensorflow/tf-keras-datasets/train-labels-idx1-ubyte.gz\n",
            "29515/29515 [==============================] - 0s 0us/step\n",
            "Downloading data from https://storage.googleapis.com/tensorflow/tf-keras-datasets/train-images-idx3-ubyte.gz\n",
            "26421880/26421880 [==============================] - 1s 0us/step\n",
            "Downloading data from https://storage.googleapis.com/tensorflow/tf-keras-datasets/t10k-labels-idx1-ubyte.gz\n",
            "5148/5148 [==============================] - 0s 0us/step\n",
            "Downloading data from https://storage.googleapis.com/tensorflow/tf-keras-datasets/t10k-images-idx3-ubyte.gz\n",
            "4422102/4422102 [==============================] - 1s 0us/step\n"
          ]
        }
      ]
    },
    {
      "cell_type": "code",
      "metadata": {
        "id": "6Z52YG_1kXbi"
      },
      "source": [
        "x_train = x_train.reshape(60000, 784)\n",
        "x_test = x_test.reshape(10000, 784)\n",
        "x_train = x_train / 255\n",
        "x_test = x_test / 255\n",
        "y_train = utils.to_categorical(y_train, 10)\n",
        "y_test = utils.to_categorical(y_test, 10)"
      ],
      "execution_count": 5,
      "outputs": []
    },
    {
      "cell_type": "markdown",
      "metadata": {
        "id": "rpEltSGUkJAG"
      },
      "source": [
        "## Задаем функцию создания нейронной сети"
      ]
    },
    {
      "cell_type": "code",
      "metadata": {
        "id": "Sd62W3GOQtKU"
      },
      "source": [
        "def build_model(hp):\n",
        "    model = Sequential()\n",
        "    activation_choice = hp.Choice('activation', values=['relu', 'sigmoid', 'tanh', 'elu', 'selu'])\n",
        "    model.add(Dense(units=hp.Int('units_input',    # Полносвязный слой с разным количеством нейронов\n",
        "                                   min_value=512,    # минимальное количество нейронов - 128\n",
        "                                   max_value=1024,   # максимальное количество - 1024\n",
        "                                   step=32),\n",
        "                    input_dim=784,\n",
        "                    activation=activation_choice))\n",
        "    # Добавляем случайное количество скрытых слоев\n",
        "    for i in range(hp.Int('num_hidden_layers', 1, 4)):  # Гиперпараметр num_hidden_layers от 1 до 3\n",
        "        model.add(Dense(units=hp.Int(f'units_hidden_{i}',\n",
        "                                   min_value=128,\n",
        "                                   max_value=600,\n",
        "                                   step=32),\n",
        "                    activation=activation_choice))\n",
        "    model.add(Dense(10, activation='softmax'))\n",
        "    model.compile(\n",
        "        optimizer=hp.Choice('optimizer', values=['adam','rmsprop','SGD']),\n",
        "        loss='categorical_crossentropy',\n",
        "        metrics=['accuracy'])\n",
        "    return model"
      ],
      "execution_count": 10,
      "outputs": []
    },
    {
      "cell_type": "markdown",
      "metadata": {
        "id": "lFw-0sZsmFOJ"
      },
      "source": [
        "## Создаем tuner\n",
        "\n",
        "Доступные типы тюнеров:\n",
        "- RandomSearch - случайный поиск.\n",
        "- Hyperband - алгоритм оптимизации на основе многорукого бандита, Li, Lisha, and Kevin Jamieson. [\"Hyperband: A Novel Bandit-Based Approach to Hyperparameter Optimization.\"Journal of Machine Learning Research 18 (2018): 1-52](http://jmlr.org/papers/v18/16-558.html).\n",
        "- BayesianOptimization - [байесовская оптимизация](https://en.wikipedia.org/wiki/Bayesian_optimization)."
      ]
    },
    {
      "cell_type": "code",
      "metadata": {
        "id": "OZwA47cOQz4b"
      },
      "source": [
        "tuner = RandomSearch(\n",
        "    build_model,                 # функция создания модели\n",
        "    objective='val_accuracy',    # метрика, которую нужно оптимизировать -\n",
        "                                 # доля правильных ответов на проверочном наборе данных\n",
        "    max_trials=80,               # максимальное количество запусков обучения\n",
        "    directory='test_directory'   # каталог, куда сохраняются обученные сети\n",
        "    )"
      ],
      "execution_count": 11,
      "outputs": []
    },
    {
      "cell_type": "markdown",
      "metadata": {
        "id": "-znOiwDZB1C5"
      },
      "source": [
        "## Запускаем подбор гиперпараметров"
      ]
    },
    {
      "cell_type": "markdown",
      "metadata": {
        "id": "63MVEBFYmdpB"
      },
      "source": [
        "Пространство поиска"
      ]
    },
    {
      "cell_type": "code",
      "metadata": {
        "id": "JeJ87qoVB4PV",
        "colab": {
          "base_uri": "https://localhost:8080/"
        },
        "outputId": "bf3f59c5-6bc8-4539-f937-32caadc402af"
      },
      "source": [
        "tuner.search_space_summary()"
      ],
      "execution_count": 12,
      "outputs": [
        {
          "output_type": "stream",
          "name": "stdout",
          "text": [
            "Search space summary\n",
            "Default search space size: 5\n",
            "activation (Choice)\n",
            "{'default': 'relu', 'conditions': [], 'values': ['relu', 'sigmoid', 'tanh', 'elu', 'selu'], 'ordered': False}\n",
            "units_input (Int)\n",
            "{'default': None, 'conditions': [], 'min_value': 512, 'max_value': 1024, 'step': 32, 'sampling': 'linear'}\n",
            "num_hidden_layers (Int)\n",
            "{'default': None, 'conditions': [], 'min_value': 1, 'max_value': 4, 'step': 1, 'sampling': 'linear'}\n",
            "units_hidden_0 (Int)\n",
            "{'default': None, 'conditions': [], 'min_value': 128, 'max_value': 600, 'step': 32, 'sampling': 'linear'}\n",
            "optimizer (Choice)\n",
            "{'default': 'adam', 'conditions': [], 'values': ['adam', 'rmsprop', 'SGD'], 'ordered': False}\n"
          ]
        }
      ]
    },
    {
      "cell_type": "markdown",
      "metadata": {
        "id": "EfT4ecI8n5Ga"
      },
      "source": [
        "Подбор гиперпараметров"
      ]
    },
    {
      "cell_type": "code",
      "metadata": {
        "id": "NEFHVKDBB-Z9",
        "outputId": "300edf08-d463-4eb1-b462-9f4f17798944",
        "colab": {
          "base_uri": "https://localhost:8080/"
        }
      },
      "source": [
        "tuner.search(x_train,                  # Данные для обучения\n",
        "             y_train,                  # Правильные ответы\n",
        "             batch_size=256,           # Размер мини-выборки\n",
        "             epochs=20,                # Количество эпох обучения\n",
        "             validation_split=0.2,     # Часть данных, которая будет использоваться для проверки\n",
        "             )"
      ],
      "execution_count": 13,
      "outputs": [
        {
          "output_type": "stream",
          "name": "stdout",
          "text": [
            "Trial 80 Complete [00h 00m 42s]\n",
            "val_accuracy: 0.8503333330154419\n",
            "\n",
            "Best val_accuracy So Far: 0.8987500071525574\n",
            "Total elapsed time: 00h 45m 06s\n"
          ]
        }
      ]
    },
    {
      "cell_type": "markdown",
      "metadata": {
        "id": "KlPTC0r3pLyB"
      },
      "source": [
        "## Выбираем лучшую модель"
      ]
    },
    {
      "cell_type": "code",
      "metadata": {
        "id": "i1TDBMF6ORNW",
        "colab": {
          "base_uri": "https://localhost:8080/"
        },
        "outputId": "2b775407-a24d-4e00-c2c3-cce4a07dd1e1"
      },
      "source": [
        "tuner.results_summary()"
      ],
      "execution_count": 14,
      "outputs": [
        {
          "output_type": "stream",
          "name": "stdout",
          "text": [
            "Results summary\n",
            "Results in test_directory/untitled_project\n",
            "Showing 10 best trials\n",
            "Objective(name=\"val_accuracy\", direction=\"max\")\n",
            "\n",
            "Trial 37 summary\n",
            "Hyperparameters:\n",
            "activation: relu\n",
            "units_input: 768\n",
            "num_hidden_layers: 2\n",
            "units_hidden_0: 384\n",
            "optimizer: adam\n",
            "units_hidden_1: 512\n",
            "units_hidden_2: 256\n",
            "units_hidden_3: 544\n",
            "Score: 0.8987500071525574\n",
            "\n",
            "Trial 14 summary\n",
            "Hyperparameters:\n",
            "activation: tanh\n",
            "units_input: 640\n",
            "num_hidden_layers: 2\n",
            "units_hidden_0: 512\n",
            "optimizer: adam\n",
            "units_hidden_1: 160\n",
            "units_hidden_2: 512\n",
            "units_hidden_3: 192\n",
            "Score: 0.8981666564941406\n",
            "\n",
            "Trial 30 summary\n",
            "Hyperparameters:\n",
            "activation: relu\n",
            "units_input: 896\n",
            "num_hidden_layers: 3\n",
            "units_hidden_0: 320\n",
            "optimizer: adam\n",
            "units_hidden_1: 352\n",
            "units_hidden_2: 320\n",
            "units_hidden_3: 384\n",
            "Score: 0.8979166746139526\n",
            "\n",
            "Trial 09 summary\n",
            "Hyperparameters:\n",
            "activation: relu\n",
            "units_input: 832\n",
            "num_hidden_layers: 1\n",
            "units_hidden_0: 320\n",
            "optimizer: adam\n",
            "units_hidden_1: 512\n",
            "units_hidden_2: 448\n",
            "units_hidden_3: 320\n",
            "Score: 0.8975833058357239\n",
            "\n",
            "Trial 34 summary\n",
            "Hyperparameters:\n",
            "activation: elu\n",
            "units_input: 704\n",
            "num_hidden_layers: 3\n",
            "units_hidden_0: 256\n",
            "optimizer: adam\n",
            "units_hidden_1: 448\n",
            "units_hidden_2: 224\n",
            "units_hidden_3: 384\n",
            "Score: 0.8973333239555359\n",
            "\n",
            "Trial 12 summary\n",
            "Hyperparameters:\n",
            "activation: relu\n",
            "units_input: 896\n",
            "num_hidden_layers: 3\n",
            "units_hidden_0: 160\n",
            "optimizer: adam\n",
            "units_hidden_1: 288\n",
            "units_hidden_2: 320\n",
            "units_hidden_3: 288\n",
            "Score: 0.8969166874885559\n",
            "\n",
            "Trial 41 summary\n",
            "Hyperparameters:\n",
            "activation: relu\n",
            "units_input: 512\n",
            "num_hidden_layers: 3\n",
            "units_hidden_0: 576\n",
            "optimizer: adam\n",
            "units_hidden_1: 128\n",
            "units_hidden_2: 480\n",
            "units_hidden_3: 544\n",
            "Score: 0.8968333601951599\n",
            "\n",
            "Trial 77 summary\n",
            "Hyperparameters:\n",
            "activation: tanh\n",
            "units_input: 864\n",
            "num_hidden_layers: 3\n",
            "units_hidden_0: 128\n",
            "optimizer: adam\n",
            "units_hidden_1: 192\n",
            "units_hidden_2: 224\n",
            "units_hidden_3: 512\n",
            "Score: 0.8961666822433472\n",
            "\n",
            "Trial 43 summary\n",
            "Hyperparameters:\n",
            "activation: relu\n",
            "units_input: 576\n",
            "num_hidden_layers: 3\n",
            "units_hidden_0: 480\n",
            "optimizer: adam\n",
            "units_hidden_1: 288\n",
            "units_hidden_2: 416\n",
            "units_hidden_3: 352\n",
            "Score: 0.8959166407585144\n",
            "\n",
            "Trial 17 summary\n",
            "Hyperparameters:\n",
            "activation: elu\n",
            "units_input: 960\n",
            "num_hidden_layers: 2\n",
            "units_hidden_0: 256\n",
            "optimizer: adam\n",
            "units_hidden_1: 288\n",
            "units_hidden_2: 192\n",
            "units_hidden_3: 448\n",
            "Score: 0.8955000042915344\n"
          ]
        }
      ]
    },
    {
      "cell_type": "markdown",
      "metadata": {
        "id": "_it8FZ8epSue"
      },
      "source": [
        "Получаем три лучших модели"
      ]
    },
    {
      "cell_type": "code",
      "metadata": {
        "id": "31_zCfjqQVL6"
      },
      "source": [
        "models = tuner.get_best_models(num_models=4)"
      ],
      "execution_count": 17,
      "outputs": []
    },
    {
      "cell_type": "markdown",
      "metadata": {
        "id": "Oje7bSQppVkF"
      },
      "source": [
        "Оцениваем качество модели на тестовых данных"
      ]
    },
    {
      "cell_type": "code",
      "metadata": {
        "id": "CUoo7iM-bBht",
        "colab": {
          "base_uri": "https://localhost:8080/"
        },
        "outputId": "f9d6e068-76df-4e55-f8f0-2da915f4d6e7"
      },
      "source": [
        "for model in models:\n",
        "  model.summary()\n",
        "  model.evaluate(x_test, y_test)\n",
        "  print()"
      ],
      "execution_count": 18,
      "outputs": [
        {
          "output_type": "stream",
          "name": "stdout",
          "text": [
            "Model: \"sequential\"\n",
            "_________________________________________________________________\n",
            " Layer (type)                Output Shape              Param #   \n",
            "=================================================================\n",
            " dense (Dense)               (None, 768)               602880    \n",
            "                                                                 \n",
            " dense_1 (Dense)             (None, 384)               295296    \n",
            "                                                                 \n",
            " dense_2 (Dense)             (None, 512)               197120    \n",
            "                                                                 \n",
            " dense_3 (Dense)             (None, 10)                5130      \n",
            "                                                                 \n",
            "=================================================================\n",
            "Total params: 1100426 (4.20 MB)\n",
            "Trainable params: 1100426 (4.20 MB)\n",
            "Non-trainable params: 0 (0.00 Byte)\n",
            "_________________________________________________________________\n",
            "313/313 [==============================] - 1s 3ms/step - loss: 0.3702 - accuracy: 0.8938\n",
            "\n",
            "Model: \"sequential\"\n",
            "_________________________________________________________________\n",
            " Layer (type)                Output Shape              Param #   \n",
            "=================================================================\n",
            " dense (Dense)               (None, 640)               502400    \n",
            "                                                                 \n",
            " dense_1 (Dense)             (None, 512)               328192    \n",
            "                                                                 \n",
            " dense_2 (Dense)             (None, 160)               82080     \n",
            "                                                                 \n",
            " dense_3 (Dense)             (None, 10)                1610      \n",
            "                                                                 \n",
            "=================================================================\n",
            "Total params: 914282 (3.49 MB)\n",
            "Trainable params: 914282 (3.49 MB)\n",
            "Non-trainable params: 0 (0.00 Byte)\n",
            "_________________________________________________________________\n",
            "313/313 [==============================] - 1s 3ms/step - loss: 0.3283 - accuracy: 0.8920\n",
            "\n",
            "Model: \"sequential\"\n",
            "_________________________________________________________________\n",
            " Layer (type)                Output Shape              Param #   \n",
            "=================================================================\n",
            " dense (Dense)               (None, 896)               703360    \n",
            "                                                                 \n",
            " dense_1 (Dense)             (None, 320)               287040    \n",
            "                                                                 \n",
            " dense_2 (Dense)             (None, 352)               112992    \n",
            "                                                                 \n",
            " dense_3 (Dense)             (None, 320)               112960    \n",
            "                                                                 \n",
            " dense_4 (Dense)             (None, 10)                3210      \n",
            "                                                                 \n",
            "=================================================================\n",
            "Total params: 1219562 (4.65 MB)\n",
            "Trainable params: 1219562 (4.65 MB)\n",
            "Non-trainable params: 0 (0.00 Byte)\n",
            "_________________________________________________________________\n",
            "313/313 [==============================] - 2s 4ms/step - loss: 0.3486 - accuracy: 0.8925\n",
            "\n",
            "Model: \"sequential\"\n",
            "_________________________________________________________________\n",
            " Layer (type)                Output Shape              Param #   \n",
            "=================================================================\n",
            " dense (Dense)               (None, 832)               653120    \n",
            "                                                                 \n",
            " dense_1 (Dense)             (None, 320)               266560    \n",
            "                                                                 \n",
            " dense_2 (Dense)             (None, 10)                3210      \n",
            "                                                                 \n",
            "=================================================================\n",
            "Total params: 922890 (3.52 MB)\n",
            "Trainable params: 922890 (3.52 MB)\n",
            "Non-trainable params: 0 (0.00 Byte)\n",
            "_________________________________________________________________\n",
            "313/313 [==============================] - 1s 3ms/step - loss: 0.3468 - accuracy: 0.8909\n",
            "\n"
          ]
        }
      ]
    }
  ]
}